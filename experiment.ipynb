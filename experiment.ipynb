{
 "cells": [
  {
   "cell_type": "code",
   "execution_count": 3,
   "metadata": {},
   "outputs": [
    {
     "data": {
      "text/plain": [
       "[('Apache', 6),\n",
       " ('Proxifier', 8),\n",
       " ('HDFS', 14),\n",
       " ('OpenSSH', 26),\n",
       " ('Spark', 36),\n",
       " ('OpenStack', 43),\n",
       " ('HPC', 46),\n",
       " ('Zookeeper', 50),\n",
       " ('Windows', 50),\n",
       " ('HealthApp', 75),\n",
       " ('Hadoop', 114),\n",
       " ('Linux', 118),\n",
       " ('BGL', 120),\n",
       " ('Thunderbird', 149),\n",
       " ('Android', 158),\n",
       " ('Mac', 341)]"
      ]
     },
     "execution_count": 3,
     "metadata": {},
     "output_type": "execute_result"
    }
   ],
   "source": [
    "from data_utils import load_dataset, dataset\n",
    "from pathlib import Path\n",
    "\n",
    "# All subdir in logs directory\n",
    "logs_dir = Path('logs')\n",
    "logs_subdir = [x.name for x in logs_dir.iterdir() if x.is_dir()]\n",
    "\n",
    "result = [ (subdir, len(load_dataset(subdir)['template'].unique())) for subdir in logs_subdir ]\n",
    "\n",
    "# sort by number of templates\n",
    "result.sort(key=lambda x: x[1], reverse=False)\n",
    "result"
   ]
  },
  {
   "cell_type": "code",
   "execution_count": 7,
   "metadata": {},
   "outputs": [
    {
     "name": "stdout",
     "output_type": "stream",
     "text": [
      "354 : {host}:{port} close, {sent_bytes} bytes sent, {received_bytes} bytes received, lifetime {lifetime}\n",
      "955 : {host}:{port} open through proxy {proxy}:{proxy_port} {protocol}\n",
      "120 : {host}:{port} close, {sent_bytes} bytes ({int(sent_bytes)/1024:.2f} KB) sent, {received_bytes} bytes received, lifetime {lifetime}\n",
      "167 : {host}:{port} close, {sent_bytes} bytes sent, {received_bytes} bytes ({int(received_bytes)/1024:.2f} KB) received, lifetime {lifetime}\n",
      "293 : {host}:{port} close, {sent_bytes} bytes ({int(sent_bytes)/1024:.2f} KB) sent, {received_bytes} bytes ({int(received_bytes)/1024:.2f} KB) received, lifetime {lifetime}\n",
      "8 : {host}:{port} close, {sent_bytes} bytes ({int(sent_bytes)/1024:.2f} KB) sent, {received_bytes} bytes ({int(received_bytes)/1024/1024:.2f} MB) received, lifetime {lifetime}\n",
      "96 : {host}:{port} error : {error_msg}\n",
      "<*>:<*> close, <*> bytes sent, <*> bytes received, lifetime <*>\n",
      "<*>:<*> open through proxy <*>:<*> <*>\n",
      "<*>:<*> close, <*> bytes (<*> KB) sent, <*> bytes received, lifetime <*>\n",
      "<*>:<*> close, <*> bytes sent, <*> bytes (<*> KB) received, lifetime <*>\n",
      "<*>:<*> close, <*> bytes (<*> KB) sent, <*> bytes (<*> KB) received, lifetime <*>\n",
      "<*>:<*> close, <*> bytes (<*> KB) sent, <*> bytes (<*> MB) received, lifetime <*>\n",
      "<*>:<*> error : <*>\n"
     ]
    }
   ],
   "source": [
    "import json\n",
    "from LogParsingGPT import replace_variable\n",
    "with open('result_Proxifier.json', 'r') as f:\n",
    "    result = json.load(f)\n",
    "for k in result.keys():\n",
    "    print(f'{len(result[k][\"matches\"])} : {k}')\n",
    "for k in result.keys():\n",
    "    print(replace_variable(k))"
   ]
  },
  {
   "cell_type": "code",
   "execution_count": 5,
   "metadata": {},
   "outputs": [
    {
     "name": "stdout",
     "output_type": "stream",
     "text": [
      "538 : mod_jk child workerEnv in error state {worker_state}\n",
      "835 : jk2_init() Found child {child_pid} in scoreboard slot {slot_num}\n",
      "568 : workerEnv.init() ok {path}\n",
      "31 : [client {client_ip}] Directory index forbidden by rule: {directory_path}\n",
      "11 : mod_jk child init {init_state} {error_code}\n",
      "11 : jk2_init() Can't find child {child_pid} in scoreboard\n"
     ]
    }
   ],
   "source": [
    "import json\n",
    "with open('result_Apache.json', 'r') as f:\n",
    "    result = json.load(f)\n",
    "for k in result.keys():\n",
    "    print(f'{len(result[k][\"matches\"])} : {k}')"
   ]
  },
  {
   "cell_type": "code",
   "execution_count": null,
   "metadata": {},
   "outputs": [],
   "source": []
  }
 ],
 "metadata": {
  "kernelspec": {
   "display_name": "py310",
   "language": "python",
   "name": "python3"
  },
  "language_info": {
   "codemirror_mode": {
    "name": "ipython",
    "version": 3
   },
   "file_extension": ".py",
   "mimetype": "text/x-python",
   "name": "python",
   "nbconvert_exporter": "python",
   "pygments_lexer": "ipython3",
   "version": "3.10.6"
  },
  "orig_nbformat": 4
 },
 "nbformat": 4,
 "nbformat_minor": 2
}
