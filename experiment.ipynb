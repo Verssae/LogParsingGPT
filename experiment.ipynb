{
 "cells": [
  {
   "cell_type": "code",
   "execution_count": 5,
   "metadata": {},
   "outputs": [
    {
     "data": {
      "text/plain": [
       "[('Apache', 6),\n",
       " ('Proxifier', 8),\n",
       " ('HDFS', 14),\n",
       " ('OpenSSH', 26),\n",
       " ('Spark', 36),\n",
       " ('OpenStack', 43),\n",
       " ('HPC', 46),\n",
       " ('Zookeeper', 50),\n",
       " ('Windows', 50),\n",
       " ('HealthApp', 75),\n",
       " ('Hadoop', 114),\n",
       " ('Linux', 118),\n",
       " ('BGL', 120),\n",
       " ('Thunderbird', 149),\n",
       " ('Android', 158),\n",
       " ('Mac', 341)]"
      ]
     },
     "execution_count": 5,
     "metadata": {},
     "output_type": "execute_result"
    }
   ],
   "source": [
    "from data_utils import load_dataset\n",
    "from pathlib import Path\n",
    "\n",
    "# All subdir in logs directory\n",
    "logs_dir = Path('logs')\n",
    "logs_subdir = [x.name for x in logs_dir.iterdir() if x.is_dir()]\n",
    "\n",
    "result = [ (subdir, len(load_dataset(subdir)['template'].unique())) for subdir in logs_subdir ]\n",
    "\n",
    "# sort by number of templates\n",
    "result.sort(key=lambda x: x[1], reverse=False)\n",
    "result"
   ]
  },
  {
   "cell_type": "code",
   "execution_count": null,
   "metadata": {},
   "outputs": [],
   "source": []
  }
 ],
 "metadata": {
  "kernelspec": {
   "display_name": "py310",
   "language": "python",
   "name": "python3"
  },
  "language_info": {
   "codemirror_mode": {
    "name": "ipython",
    "version": 3
   },
   "file_extension": ".py",
   "mimetype": "text/x-python",
   "name": "python",
   "nbconvert_exporter": "python",
   "pygments_lexer": "ipython3",
   "version": "3.10.6"
  },
  "orig_nbformat": 4
 },
 "nbformat": 4,
 "nbformat_minor": 2
}
