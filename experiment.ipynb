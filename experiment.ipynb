{
 "cells": [
  {
   "cell_type": "code",
   "execution_count": 75,
   "metadata": {},
   "outputs": [],
   "source": [
    "from data_utils import load_dataset\n",
    "import random\n",
    "\n",
    "def dataset(project):\n",
    "    df = load_dataset(project)\n",
    "    df = df[['log', 'template']]\n",
    "    df = df.groupby('template').agg({'log': list}).reset_index()\n",
    "    df['num_variables'] = df['template'].apply(lambda x: x.count('<*>'))\n",
    "    df['is_static'] = df['num_variables'] == 0\n",
    "    df.columns = ['template', 'logs', 'num_variables', 'is_static']\n",
    "    df['random_log'] = df['logs'].apply(lambda x: random.choice(x))\n",
    "    return df"
   ]
  },
  {
   "cell_type": "code",
   "execution_count": 76,
   "metadata": {},
   "outputs": [],
   "source": [
    "dataset1 = dataset('HDFS')\n",
    "dataset2 = dataset('OpenStack')\n",
    "dataset3 = dataset('Hadoop')"
   ]
  },
  {
   "cell_type": "code",
   "execution_count": 77,
   "metadata": {},
   "outputs": [
    {
     "data": {
      "text/html": [
       "<div>\n",
       "<style scoped>\n",
       "    .dataframe tbody tr th:only-of-type {\n",
       "        vertical-align: middle;\n",
       "    }\n",
       "\n",
       "    .dataframe tbody tr th {\n",
       "        vertical-align: top;\n",
       "    }\n",
       "\n",
       "    .dataframe thead th {\n",
       "        text-align: right;\n",
       "    }\n",
       "</style>\n",
       "<table border=\"1\" class=\"dataframe\">\n",
       "  <thead>\n",
       "    <tr style=\"text-align: right;\">\n",
       "      <th></th>\n",
       "      <th>template</th>\n",
       "      <th>logs</th>\n",
       "      <th>num_variables</th>\n",
       "      <th>is_static</th>\n",
       "      <th>random_log</th>\n",
       "    </tr>\n",
       "  </thead>\n",
       "  <tbody>\n",
       "    <tr>\n",
       "      <th>0</th>\n",
       "      <td>&lt;*&gt;:&lt;*&gt; Served block &lt;*&gt; to &lt;*&gt;</td>\n",
       "      <td>[10.251.194.213:50010 Served block blk_-772471...</td>\n",
       "      <td>4</td>\n",
       "      <td>False</td>\n",
       "      <td>10.251.121.224:50010 Served block blk_34237816...</td>\n",
       "    </tr>\n",
       "    <tr>\n",
       "      <th>1</th>\n",
       "      <td>&lt;*&gt;:&lt;*&gt; Starting thread to transfer block &lt;*&gt; ...</td>\n",
       "      <td>[10.250.15.198:50010 Starting thread to transf...</td>\n",
       "      <td>5</td>\n",
       "      <td>False</td>\n",
       "      <td>10.250.15.198:50010 Starting thread to transfe...</td>\n",
       "    </tr>\n",
       "    <tr>\n",
       "      <th>2</th>\n",
       "      <td>&lt;*&gt;:&lt;*&gt;:Got exception while serving &lt;*&gt; to &lt;*&gt;:</td>\n",
       "      <td>[10.251.30.85:50010:Got exception while servin...</td>\n",
       "      <td>4</td>\n",
       "      <td>False</td>\n",
       "      <td>10.251.215.70:50010:Got exception while servin...</td>\n",
       "    </tr>\n",
       "    <tr>\n",
       "      <th>3</th>\n",
       "      <td>BLOCK* NameSystem.addStoredBlock: blockMap upd...</td>\n",
       "      <td>[BLOCK* NameSystem.addStoredBlock: blockMap up...</td>\n",
       "      <td>4</td>\n",
       "      <td>False</td>\n",
       "      <td>BLOCK* NameSystem.addStoredBlock: blockMap upd...</td>\n",
       "    </tr>\n",
       "    <tr>\n",
       "      <th>4</th>\n",
       "      <td>BLOCK* NameSystem.allocateBlock: &lt;*&gt; &lt;*&gt;</td>\n",
       "      <td>[BLOCK* NameSystem.allocateBlock: /user/root/r...</td>\n",
       "      <td>2</td>\n",
       "      <td>False</td>\n",
       "      <td>BLOCK* NameSystem.allocateBlock: /user/root/ra...</td>\n",
       "    </tr>\n",
       "  </tbody>\n",
       "</table>\n",
       "</div>"
      ],
      "text/plain": [
       "                                            template  \\\n",
       "0                    <*>:<*> Served block <*> to <*>   \n",
       "1  <*>:<*> Starting thread to transfer block <*> ...   \n",
       "2    <*>:<*>:Got exception while serving <*> to <*>:   \n",
       "3  BLOCK* NameSystem.addStoredBlock: blockMap upd...   \n",
       "4           BLOCK* NameSystem.allocateBlock: <*> <*>   \n",
       "\n",
       "                                                logs  num_variables  \\\n",
       "0  [10.251.194.213:50010 Served block blk_-772471...              4   \n",
       "1  [10.250.15.198:50010 Starting thread to transf...              5   \n",
       "2  [10.251.30.85:50010:Got exception while servin...              4   \n",
       "3  [BLOCK* NameSystem.addStoredBlock: blockMap up...              4   \n",
       "4  [BLOCK* NameSystem.allocateBlock: /user/root/r...              2   \n",
       "\n",
       "   is_static                                         random_log  \n",
       "0      False  10.251.121.224:50010 Served block blk_34237816...  \n",
       "1      False  10.250.15.198:50010 Starting thread to transfe...  \n",
       "2      False  10.251.215.70:50010:Got exception while servin...  \n",
       "3      False  BLOCK* NameSystem.addStoredBlock: blockMap upd...  \n",
       "4      False  BLOCK* NameSystem.allocateBlock: /user/root/ra...  "
      ]
     },
     "execution_count": 77,
     "metadata": {},
     "output_type": "execute_result"
    }
   ],
   "source": [
    "dataset1.head()"
   ]
  },
  {
   "cell_type": "code",
   "execution_count": null,
   "metadata": {},
   "outputs": [],
   "source": [
    "\"\"\"\n",
    "[Test] Run random_log -(llm)-> template on all datasets\n",
    "1. Given a project, sample k(=3) examples (i.e. log, template) from the dataset (i.e. HDFS, OpenStack, Hadoop)\n",
    "2. Feed examples to prompt\n",
    "3. Run llm_parse on the random_log (i.e. log -> template)\n",
    "4. Parse the output of llm_parse to get the template and variables\n",
    "5. Check if the output template is reversible to the log (i.e. template+variables -> log)\n",
    "\"\"\""
   ]
  },
  {
   "cell_type": "code",
   "execution_count": 79,
   "metadata": {},
   "outputs": [
    {
     "data": {
      "text/plain": [
       "'hello John'"
      ]
     },
     "execution_count": 79,
     "metadata": {},
     "output_type": "execute_result"
    }
   ],
   "source": [
    "varaibles = {\n",
    "    'name': 'John',\n",
    "}\n",
    "template = 'hello {name}'\n",
    "\n",
    "template.format(**varaibles)"
   ]
  },
  {
   "cell_type": "code",
   "execution_count": null,
   "metadata": {},
   "outputs": [],
   "source": [
    "1581,81111,65303,19,INFO,dfs.FSNamesystem,\n",
    "\n",
    "BLOCK* ask 10.250.10.213:50010 to delete  blk_4029139044660806713 blk_-5471189807977280544 blk_6708643067868168687 blk_-500678958150296008 blk_-8597840983621849778 blk_-3610057702150392748 blk_-1709606535283888232 blk_-4154362211643572668 blk_-8892080524136798472 blk_5356427838869009345 blk_-6987238639050161133 blk_-5215128860160823363 blk_7186692462976470823 blk_-6538449588297475521 blk_-2165930080589343952 blk_-5524899010031625427 blk_6384439316405471171 blk_-2965258329365213675 blk_118950937507976810 blk_-1717088081766373300 blk_-3911466865418055820 blk_1237334407720045724 blk_-760015977981369567 blk_-6802007379650646616 blk_-7667535133893574689 blk_6865645438678864855 blk_4633996820313194570 blk_7225301266481603731 blk_-4930257130609958866 blk_-4124845864570823487 blk_4927011145115127531 blk_7234346856930822716 blk_7159969052744592746 blk_1296823600557793869 blk_2209319141644287774 blk_-622218131799806364 blk_-8154516246083521409 blk_4466433199471909449 blk_8406894133999850666 blk_991075908349619367 blk_-2081474832657208733 blk_-5573393775847919985 blk_2004177185950968695 blk_4041319486058127641 blk_6449230045010995668 blk_5978265573904271474 blk_-4813738732036414715 blk_4389340532803855247 blk_-857151863616763327 blk_-7200136644339435027 blk_-1454962873426270839 blk_-5012294311590635938 blk_7112727670634942639 blk_3335012758760643328 blk_3382627815322561484 blk_825124020036421636 blk_-8040559034239258688 blk_-5415591001139074826 blk_-1052513063506891954 blk_-1155882018729560343 blk_-5679835604685169040 blk_-4498808851217768984 blk_8345415947062862337 blk_8521655806854586696 blk_7602939593939794410 blk_-4833650023923869528 blk_7237730029042141635 blk_2860897425785746911 blk_-1937193099911148343 blk_5740615689780260922 blk_963252337613423037 blk_5537011318013544619 blk_2626057344048606017 blk_8296499240199635880 blk_7211071078501521087 blk_8823112510768971040 blk_-3366974935992288326 blk_-2947778702643296262 blk_7693891282153136044 blk_4644812717442758529 blk_-5724970555730638200 blk_-3039294462945223064 blk_-1729755380346651221 blk_-6448673813272428418 blk_-7724282460846954976 blk_2698691234887375588 blk_-4043525878322523713 blk_-5195120009388265 blk_8879208244602324204 blk_-5784376901556131897 blk_-5201149273969117873 blk_5253889604362640423 blk_7067050654303940677 blk_8992626816092659826 blk_-488462739843441981 blk_8543991617360374935 blk_1943146154560599630 blk_-9194660123773136535 blk_3351984198891394382 blk_-6759123807563555545\n",
    "\n",
    "BLOCK* ask <*>:<*> to delete <*>\n"
   ]
  },
  {
   "cell_type": "code",
   "execution_count": 80,
   "metadata": {},
   "outputs": [
    {
     "name": "stdout",
     "output_type": "stream",
     "text": [
      "blocks\n",
      "blk_4029139044660806713 blk_-5471189807977280544 blk_6708643067868168687 blk_-500678958150296008 blk_-8597840983621849778 blk_-3610057702150392748 blk_-1709606535283888232 blk_-4154362211643572668 blk_-8892080524..._3366974935992288326 blk_-2947778702643296262 blk_7693891282153136044 blk_4644812717442758529 blk_-5724970555730638200 blk_-3039294462945223064 blk_-1729755380346651221 blk_-6448673813272428418 blk_-7724282460846954976 blk_2698691234887375588 blk_-4043525878322523713 blk_-5195120009388265 blk_8879208244602324204 blk_-5784376901556131897 blk_-5201149273969117873 blk_5253889604362640423 blk_7067050654303940677 blk_8992626816092659826 blk_-488462739843441981 blk_8543991617360374935 blk_1943146154560599630 blk_-9194660123773136535 blk_3351984198891394382 blk_-6759123807563555545\n"
     ]
    }
   ],
   "source": [
    "import os\n",
    "\n",
    "with open('test_blocks.txt', 'r') as f:\n",
    "    lines = f.readlines()\n",
    "\n",
    "for line in lines:\n",
    "    var, val = line.split(' = ')\n",
    "    print(var)\n",
    "    print(eval(val))"
   ]
  },
  {
   "cell_type": "code",
   "execution_count": 82,
   "metadata": {},
   "outputs": [],
   "source": [
    "log = \"BLOCK* ask 10.250.18.114:50010 to delete  blk_-5140072410813878235\"\n",
    "template = \"BLOCK* ask {ip}:{port} to delete {block_id}\"\n",
    "variables = {'ip': '10.250.18.114', 'port': '50010', 'block_id': 'blk_-5140072410813878235'}"
   ]
  },
  {
   "cell_type": "code",
   "execution_count": 83,
   "metadata": {},
   "outputs": [
    {
     "data": {
      "text/plain": [
       "False"
      ]
     },
     "execution_count": 83,
     "metadata": {},
     "output_type": "execute_result"
    }
   ],
   "source": [
    "def reversible(template: str, variables: dict, log:str) -> bool:\n",
    "    return log == template.format(**variables)\n",
    "\n",
    "reversible(template, variables, log)"
   ]
  },
  {
   "cell_type": "code",
   "execution_count": 84,
   "metadata": {},
   "outputs": [
    {
     "data": {
      "text/plain": [
       "'BLOCK* ask 10.250.18.114:50010 to delete blk_-5140072410813878235'"
      ]
     },
     "execution_count": 84,
     "metadata": {},
     "output_type": "execute_result"
    }
   ],
   "source": [
    "template.format(**variables)"
   ]
  },
  {
   "cell_type": "code",
   "execution_count": null,
   "metadata": {},
   "outputs": [],
   "source": []
  }
 ],
 "metadata": {
  "kernelspec": {
   "display_name": "py310",
   "language": "python",
   "name": "python3"
  },
  "language_info": {
   "codemirror_mode": {
    "name": "ipython",
    "version": 3
   },
   "file_extension": ".py",
   "mimetype": "text/x-python",
   "name": "python",
   "nbconvert_exporter": "python",
   "pygments_lexer": "ipython3",
   "version": "3.10.6"
  },
  "orig_nbformat": 4
 },
 "nbformat": 4,
 "nbformat_minor": 2
}
